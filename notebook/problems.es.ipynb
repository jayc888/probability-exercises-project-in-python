{
 "cells": [
  {
   "cell_type": "markdown",
   "id": "a41f3622",
   "metadata": {},
   "source": [
    "# Ejercicios de probabilidad"
   ]
  },
  {
   "cell_type": "markdown",
   "id": "a6bdbd89",
   "metadata": {},
   "source": [
    "## Ejercicio 1 \n",
    "\n",
    "Dos dados se lanzan una vez y se observa el total obtenido. Usa una simulación para encontrar la probabilidad estimada de que la puntuación sea mayor a 7 o un número par. Una simulación es una repetición del mismo experimento multiples veces para observar su comportamiento:\n",
    "\n",
    "- Ejecuta el experimento 1000 veces (lanza 2 dados 1000 veces, y suma el número de ambos dados).\n",
    "- Lleva ua cuenta de los números y las veces que la suma fue mayor a 7 o un número par.\n",
    "- Divide el número del paso 2 entre el número de iteraciones(1000)."
   ]
  },
  {
   "cell_type": "code",
   "execution_count": 16,
   "id": "8939d892",
   "metadata": {},
   "outputs": [
    {
     "name": "stdout",
     "output_type": "stream",
     "text": [
      "3\n"
     ]
    }
   ],
   "source": [
    "# TODO\n",
    "import numpy as np\n",
    "def lanzar_un_dado():\n",
    "    return(np.random.randint(1,7))\n",
    "\n",
    "print(lanzar_un_dado())\n",
    "\n",
    "    \n"
   ]
  },
  {
   "cell_type": "code",
   "execution_count": 38,
   "id": "a0d012cd",
   "metadata": {},
   "outputs": [
    {
     "name": "stdout",
     "output_type": "stream",
     "text": [
      "La probabilidad empirica de lanzar dos dados y que la suma sea mayor que 7 o un número par es: 0.002\n",
      "Repeticiones: 1000\n"
     ]
    }
   ],
   "source": [
    "contador = 0\n",
    "repeticiones = 0\n",
    "for _ in range(1000):\n",
    "    repeticiones+=1\n",
    "    suma = lanzar_un_dado() + lanzar_un_dado()\n",
    "    if (suma>7) or (suma%2==0):\n",
    "        contador += 1\n",
    "print(f\"La probabilidad empirica de lanzar dos dados y que la suma sea mayor que 7 o un número par es: {suma/1000}\")\n",
    "print(f\"Repeticiones: {repeticiones}\")\n"
   ]
  },
  {
   "cell_type": "markdown",
   "id": "55732bca",
   "metadata": {},
   "source": [
    "## Ejercicio 2\n",
    "\n",
    "Una caja contiene 10 bolas blancas, 20 bolas rojas y 30 bolas verdes. Si tomamos 5 bolas de la caja reemplazándolas (tomando una bola, anotando el color y luego regresandola a la caja). Queremos saber la probabilidad de:\n",
    "\n",
    "1. Tomar 3 blancas y 2 rojas.\n",
    "2. Toas todas del mismo color.\n",
    "\n",
    "Ejecuta el experimento 1000 veces y calcula las probabilidades que mencionadas."
   ]
  },
  {
   "cell_type": "code",
   "execution_count": 55,
   "id": "23244d20",
   "metadata": {},
   "outputs": [
    {
     "name": "stdout",
     "output_type": "stream",
     "text": [
      "La probabilidad empirica de obtener 3 blancas y 2 rojas es: 0.002\n",
      "La probabilidad empirica de obtener todas del mismo color es: 0.045\n"
     ]
    }
   ],
   "source": [
    "ball_box = {}\n",
    "\n",
    "# Crea la cajas con las bolas\n",
    "for i in range(60):\n",
    "    if i < 10:\n",
    "        ball_box[i] = \"White\"\n",
    "    elif (i > 9) and (i < 30):\n",
    "        ball_box[i] = \"Red\"\n",
    "    else:\n",
    "        ball_box[i] = \"Green\"\n",
    "\n",
    "#print(ball_box)\n",
    "\n",
    "def color_bolita(): \n",
    "    aleatorio = np.random.randint(0,60)\n",
    "    return(ball_box[aleatorio])\n",
    "#print(color_bolita())\n",
    "\n",
    "def sacar_5_bolitas():\n",
    "    bolitas=[]\n",
    "    for i in range(5):\n",
    "        bolitas.append(color_bolita())\n",
    "    return(bolitas)\n",
    "\n",
    "contador1=0\n",
    "contador2=0\n",
    "\n",
    "for _ in range(1000): \n",
    "    colores = sacar_5_bolitas()\n",
    "\n",
    "    colores = np.array(colores)\n",
    "\n",
    "\n",
    "    blancas = sum(colores==\"White\")\n",
    "    rojas = sum(colores==\"Red\")\n",
    "    verdes = sum(colores==\"Green\")\n",
    "\n",
    "    if(blancas==3) and (rojas==2):\n",
    "        contador1 +=1\n",
    "    if(blancas==5) or (rojas==5) or (verdes==5):\n",
    "        contador2 +=1\n",
    "\n",
    "print(f\"La probabilidad empirica de obtener 3 blancas y 2 rojas es: {contador1/1000}\")\n",
    "print(f\"La probabilidad empirica de obtener todas del mismo color es: {contador2/1000}\")\n"
   ]
  }
 ],
 "metadata": {
  "kernelspec": {
   "display_name": "Python 3",
   "language": "python",
   "name": "python3"
  },
  "language_info": {
   "codemirror_mode": {
    "name": "ipython",
    "version": 3
   },
   "file_extension": ".py",
   "mimetype": "text/x-python",
   "name": "python",
   "nbconvert_exporter": "python",
   "pygments_lexer": "ipython3",
   "version": "3.11.4"
  }
 },
 "nbformat": 4,
 "nbformat_minor": 5
}
